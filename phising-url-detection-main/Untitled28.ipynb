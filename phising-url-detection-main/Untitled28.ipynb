{
 "cells": [
  {
   "cell_type": "code",
   "execution_count": 1,
   "id": "7c8efd50",
   "metadata": {},
   "outputs": [
    {
     "data": {
      "application/vnd.jupyter.widget-view+json": {
       "model_id": "5d260ebd6e054f798333de424bea3330",
       "version_major": 2,
       "version_minor": 0
      },
      "text/plain": [
       "HTML(value='<b>Chatbot:</b> Hello! Enter a URL to check if it’s phishing.<br>')"
      ]
     },
     "metadata": {},
     "output_type": "display_data"
    },
    {
     "data": {
      "application/vnd.jupyter.widget-view+json": {
       "model_id": "5a5703b7e25d4e34be40f346ed0839ec",
       "version_major": 2,
       "version_minor": 0
      },
      "text/plain": [
       "Text(value='', placeholder='Enter a URL here...')"
      ]
     },
     "metadata": {},
     "output_type": "display_data"
    },
    {
     "data": {
      "application/vnd.jupyter.widget-view+json": {
       "model_id": "1cc0f4e2869c42479f6299f4397b7af1",
       "version_major": 2,
       "version_minor": 0
      },
      "text/plain": [
       "HBox(children=(Button(description='Check URL', style=ButtonStyle()), Button(description='Clear Chat', style=Bu…"
      ]
     },
     "metadata": {},
     "output_type": "display_data"
    }
   ],
   "source": [
    "import ipywidgets as widgets\n",
    "from IPython.display import display, HTML\n",
    "import re\n",
    "\n",
    "\n",
    "# Conversation history to keep track of messages\n",
    "conversation_history = \"<b>Chatbot:</b> Hello! Enter a URL to check if it’s phishing.<br>\"\n",
    "\n",
    "# Create widgets for the chatbot UI\n",
    "chatbox = widgets.HTML(value=conversation_history)\n",
    "user_input = widgets.Text(placeholder=\"Enter a URL here...\")\n",
    "submit_button = widgets.Button(description=\"Check URL\")\n",
    "clear_button = widgets.Button(description=\"Clear Chat\")\n",
    "\n",
    "# Display the widgets\n",
    "display(chatbox)\n",
    "display(user_input)\n",
    "display(widgets.HBox([submit_button, clear_button]))\n",
    "\n",
    "# Basic URL validation function\n",
    "def is_valid_url(url):\n",
    "    url_pattern = re.compile(\n",
    "        r'^(https?://)?'           # http:// or https://\n",
    "        r'(([A-Za-z0-9-]+\\.)+'     # Domain\n",
    "        r'[A-Za-z]{2,6})'          # TLD\n",
    "        r'(/.*)?$'                 # Optional path\n",
    "    )\n",
    "    return re.match(url_pattern, url) is not None\n",
    "def is_phishing(url):\n",
    "    # Example approach using basic string checks\n",
    "    phishing_keywords = ['login', 'secure', 'account', 'verify', 'update']\n",
    "    \n",
    "    # Check for suspicious words in the URL\n",
    "    for keyword in phishing_keywords:\n",
    "        if keyword in url.lower():\n",
    "            return True\n",
    "    \n",
    "    # You can integrate machine learning models or other techniques for more advanced detection.\n",
    "    return False\n",
    "\n",
    "\n",
    "# Function to handle URL input and check phishing status\n",
    "def check_url(b):\n",
    "    global conversation_history\n",
    "    url = user_input.value.strip()\n",
    "    \n",
    "    # Validate URL format\n",
    "    if not url:\n",
    "        conversation_history += \"<b>Chatbot:</b> Please enter a URL.<br>\"\n",
    "    elif not is_valid_url(url):\n",
    "        conversation_history += f\"<b>You:</b> {url}<br><b>Chatbot:</b> This doesn't seem like a valid URL. Please check and try again.<br>\"\n",
    "    else:\n",
    "        # Process URL through the phishing detection model\n",
    "        phishing = is_phishing(url)\n",
    "        result_message = \"⚠️ Warning: This URL is likely a phishing site!\" if phishing else \"✅ This URL seems safe.\"\n",
    "        \n",
    "        # Additional feedback for phishing URLs\n",
    "        if phishing:\n",
    "            advice = \" Avoid entering personal information on this site.\"\n",
    "            result_message += advice\n",
    "        \n",
    "        # Update conversation history with response\n",
    "        conversation_history += f\"<b>You:</b> {url}<br><b>Chatbot:</b> {result_message}<br>\"\n",
    "    \n",
    "    # Update chatbox with the conversation history\n",
    "    chatbox.value = conversation_history\n",
    "    user_input.value = \"\"  # Clear input field\n",
    "\n",
    "# Function to clear the chat\n",
    "def clear_chat(b):\n",
    "    global conversation_history\n",
    "    conversation_history = \"<b>Chatbot:</b> Chat has been cleared. Enter a URL to check if it’s phishing.<br>\"\n",
    "    chatbox.value = conversation_history\n",
    "    user_input.value = \"\"  # Clear input field\n",
    "\n",
    "# Link buttons to their respective functions\n",
    "submit_button.on_click(check_url)\n",
    "clear_button.on_click(clear_chat)\n"
   ]
  },
  {
   "cell_type": "code",
   "execution_count": null,
   "id": "e863fe8f",
   "metadata": {},
   "outputs": [],
   "source": []
  }
 ],
 "metadata": {
  "kernelspec": {
   "display_name": "Python 3 (ipykernel)",
   "language": "python",
   "name": "python3"
  },
  "language_info": {
   "codemirror_mode": {
    "name": "ipython",
    "version": 3
   },
   "file_extension": ".py",
   "mimetype": "text/x-python",
   "name": "python",
   "nbconvert_exporter": "python",
   "pygments_lexer": "ipython3",
   "version": "3.11.5"
  }
 },
 "nbformat": 4,
 "nbformat_minor": 5
}
